{
 "cells": [
  {
   "attachments": {},
   "cell_type": "markdown",
   "metadata": {},
   "source": [
    "## 1"
   ]
  },
  {
   "attachments": {},
   "cell_type": "markdown",
   "metadata": {},
   "source": [
    "a"
   ]
  },
  {
   "cell_type": "code",
   "execution_count": 3,
   "metadata": {},
   "outputs": [
    {
     "name": "stdout",
     "output_type": "stream",
     "text": [
      "False\n"
     ]
    }
   ],
   "source": [
    "def isFibonacciNumber(n):\n",
    "    a = 0\n",
    "    b = 1\n",
    "    while (b < n):\n",
    "        temp = b\n",
    "        b += a\n",
    "        a = temp\n",
    "    return b == n\n",
    "\n",
    "print(isFibonacciNumber(7))"
   ]
  },
  {
   "cell_type": "code",
   "execution_count": 1,
   "metadata": {},
   "outputs": [
    {
     "name": "stdout",
     "output_type": "stream",
     "text": [
      "1\n",
      "4\n",
      "9\n",
      "16\n",
      "30\n"
     ]
    },
    {
     "data": {
      "text/plain": [
       "30"
      ]
     },
     "execution_count": 1,
     "metadata": {},
     "output_type": "execute_result"
    }
   ],
   "source": [
    "def squareSum(n):\n",
    "    totalSum = 0\n",
    "    for i in range(1 , n+1):\n",
    "        totalSum += i*i\n",
    "        print(i*i)\n",
    "    print(totalSum)\n",
    "    return(totalSum)\n",
    "\n",
    "squareSum(4)"
   ]
  },
  {
   "cell_type": "code",
   "execution_count": 3,
   "metadata": {},
   "outputs": [
    {
     "name": "stdout",
     "output_type": "stream",
     "text": [
      "Trekantall mindre enn 10:\n",
      "1\n",
      "3\n",
      "6\n",
      "\n"
     ]
    }
   ],
   "source": [
    "def trekantall(n):\n",
    "    acc = 1\n",
    "    num = 2\n",
    "    print(f\"Trekantall mindre enn {n}:\")\n",
    "    while acc < n:\n",
    "        print(acc)\n",
    "        acc+=num\n",
    "        num += 1\n",
    "    print()\n",
    "\n",
    "trekantall(10)"
   ]
  }
 ],
 "metadata": {
  "kernelspec": {
   "display_name": "base",
   "language": "python",
   "name": "python3"
  },
  "language_info": {
   "codemirror_mode": {
    "name": "ipython",
    "version": 3
   },
   "file_extension": ".py",
   "mimetype": "text/x-python",
   "name": "python",
   "nbconvert_exporter": "python",
   "pygments_lexer": "ipython3",
   "version": "3.9.12 (main, Apr  4 2022, 05:22:27) [MSC v.1916 64 bit (AMD64)]"
  },
  "orig_nbformat": 4,
  "vscode": {
   "interpreter": {
    "hash": "b4dbf65eb2934af93dfe8402dc5043295a9b874b2f4a935919e1627f38520e4d"
   }
  }
 },
 "nbformat": 4,
 "nbformat_minor": 2
}
